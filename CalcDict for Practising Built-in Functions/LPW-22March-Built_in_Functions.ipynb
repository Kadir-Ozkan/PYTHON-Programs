{
 "cells": [
  {
   "cell_type": "markdown",
   "id": "1c18095e",
   "metadata": {},
   "source": [
    "# Built-in Functions"
   ]
  },
  {
   "cell_type": "code",
   "execution_count": 14,
   "id": "f49ccce9",
   "metadata": {},
   "outputs": [],
   "source": [
    "#This file reviews the built-in functions of Python\n",
    "\n",
    "#Built-in functions A: abs(*), aiter(), all(*), any(*), anext(), ascii(*)\n",
    "#Built-in functions B: bin(*), bool(*), breakpoint(), bytearray(*), bytes(*)\n",
    "#Built-in functions C: callable(*), chr(*), classmethod(), compile(*), complex(*)\n",
    "#Built-in functions D: delattr(*), dict(*), dir(*), divmod()\n",
    "#Built-in functions E: enumerate(), eval(), exec()\n",
    "#Built-in functions F: filter(), float(*), format(), frozenset()\n",
    "#Built-in functions G: getattr(), globals()\n",
    "#Built-in functions H: hasattr(), hash(), help(), hex(*)\n",
    "#Built-in functions I: id(), input(), int(*), isinstance(), issubclass(), iter()\n",
    "#Built-in functions L: len(*), list(*), locals()\n",
    "#Built-in functions M: map(), max(*), memoryview(), min(*)\n",
    "#Built-in functions N: next()\n",
    "#Built-in functions O: object(), oct(), open(), ord(*)\n",
    "#Built-in functions P: pow(), print(*), property()\n",
    "#Built-in functions R: range(*), repr(), reversed(), round()\n",
    "#Built-in functions S: set(), setattr(), slice(), sorted(), staticmethod(), str(), sum(), super()\n",
    "#Built-in functions T: tuple(), type(*)   \n",
    "#Built-in functions V: vars()\n",
    "#Built-in functions Z: zip()"
   ]
  },
  {
   "cell_type": "code",
   "execution_count": 61,
   "id": "1ccd6402",
   "metadata": {},
   "outputs": [],
   "source": [
    "list1 = [1, 2, 3, 4, 5]\n",
    "list2 = [6, 7, 8, 9, 10] \n",
    "lista = [\"a\", \"b\", \"c\", \"d\", \"e\"]\n",
    "listb = [\"e\", \"f\", \"g\", \"h\", \"i\"] \n",
    "mykey = \"\"\n",
    "mydict = {}\n",
    "neg = -1\n",
    "float_ = 1.2\n",
    "TR_character = \"ç\""
   ]
  },
  {
   "cell_type": "markdown",
   "id": "f3af9c42",
   "metadata": {},
   "source": [
    "### 1-Built in Functions on Mathematics and Types"
   ]
  },
  {
   "cell_type": "code",
   "execution_count": 58,
   "id": "64cbe2f4",
   "metadata": {},
   "outputs": [
    {
     "name": "stdout",
     "output_type": "stream",
     "text": [
      "1\n",
      "'\\xe7'\n",
      "0b100\n",
      "0xa\n",
      "\u0000\n",
      "0.0\n",
      "False\n",
      "1\n",
      "{0: 6, 2: 7, 3: 8, 4: 9, 5: 10}\n",
      "(0, 6) (2, 7) (3, 8) (4, 9) (5, 10)\n"
     ]
    }
   ],
   "source": [
    "print(abs(neg))\n",
    "print(ascii(\"ç\"))\n",
    "print(bin(list1[3]))\n",
    "print(hex(list2[4]))\n",
    "print(chr(list1[0]))\n",
    "print(float(list1[0]))\n",
    "print(bool(list1[0]))\n",
    "print(int(float_))\n",
    "print(dict(zip(list1, list2)))\n",
    "print(*zip(list1, list2))"
   ]
  },
  {
   "cell_type": "code",
   "execution_count": 62,
   "id": "7f54992c",
   "metadata": {},
   "outputs": [
    {
     "data": {
      "text/plain": [
       "True"
      ]
     },
     "execution_count": 62,
     "metadata": {},
     "output_type": "execute_result"
    }
   ],
   "source": [
    "all(list1) #Returns True if all items in an iterable object are true"
   ]
  },
  {
   "cell_type": "code",
   "execution_count": 51,
   "id": "7ecbd170",
   "metadata": {},
   "outputs": [
    {
     "data": {
      "text/plain": [
       "True"
      ]
     },
     "execution_count": 51,
     "metadata": {},
     "output_type": "execute_result"
    }
   ],
   "source": [
    "any(list1) # Returns True if any item in an iterable object is true"
   ]
  },
  {
   "cell_type": "markdown",
   "id": "f364f5a3",
   "metadata": {},
   "source": [
    "# bytarray"
   ]
  },
  {
   "cell_type": "code",
   "execution_count": 68,
   "id": "ff256a0b",
   "metadata": {},
   "outputs": [
    {
     "name": "stdout",
     "output_type": "stream",
     "text": [
      "abc\n",
      "97 98 99\n",
      "99\n",
      "c\n",
      "3\n",
      "True\n",
      "14\n",
      "[b'spam', b'egg', b'spam', b'bacon', b'spam', b'lobster']\n"
     ]
    }
   ],
   "source": [
    "a = \"abc\"\n",
    "aa = b'spam,egg,spam,bacon,spam,lobster'\n",
    "#a[0] = \"x\"\n",
    "print(a)\n",
    "b = bytearray(b\"abc\")\n",
    "print(*b)\n",
    "print(max(b))\n",
    "print(chr(99))\n",
    "\n",
    "print(aa.count(b'spam')) # 'spam' --> Error (without b)\n",
    "print(aa.endswith(b'ster'))\n",
    "print(aa.find(b'bacon')) # byte squence\n",
    "print(aa.split(sep=b',')) "
   ]
  },
  {
   "cell_type": "markdown",
   "id": "151a6364",
   "metadata": {},
   "source": [
    "# bytes"
   ]
  },
  {
   "cell_type": "code",
   "execution_count": null,
   "id": "1e38c20a",
   "metadata": {},
   "outputs": [],
   "source": []
  },
  {
   "cell_type": "code",
   "execution_count": 50,
   "id": "28687936",
   "metadata": {},
   "outputs": [
    {
     "name": "stdout",
     "output_type": "stream",
     "text": [
      "b'\\x00\\x00\\x00\\x00'\n",
      "True\n",
      "True\n"
     ]
    },
    {
     "data": {
      "text/plain": [
       "b'\\x00\\x00'"
      ]
     },
     "execution_count": 50,
     "metadata": {},
     "output_type": "execute_result"
    }
   ],
   "source": [
    "dort = bytes(4)\n",
    "print(dort)\n",
    "print(bool(dort))\n",
    "print(bool(b'\\x01'))\n",
    "\n",
    "bytes(list1[1])"
   ]
  },
  {
   "attachments": {
    "image.png": {
     "image/png": "[encoded data removed]"
    }
   },
   "cell_type": "markdown",
   "id": "cd3e273c",
   "metadata": {},
   "source": [
    "![image.png](attachment:image.png)"
   ]
  },
  {
   "cell_type": "markdown",
   "id": "f41efa2a",
   "metadata": {},
   "source": [
    "PNG, JPEG, MP3, WAV, ASCII, UTF-8 etc are different forms of encodings. An encoding is a format to represent audio, images, text, etc in bytes. Converting Strings to byte objects is termed as encoding. This is necessary so that the text can be stored on disk using mapping using ASCII or UTF-8 encoding techniques.\n",
    "This task is achieved using <b>encode()</b>"
   ]
  },
  {
   "cell_type": "code",
   "execution_count": 51,
   "id": "c6053ee3",
   "metadata": {},
   "outputs": [
    {
     "name": "stdout",
     "output_type": "stream",
     "text": [
      "Encoding successful\n"
     ]
    }
   ],
   "source": [
    "# String encoding\n",
    "a = 'Clarusway'\n",
    "c = b'Clarusway'\n",
    "d = a.encode('ASCII') # using ASCII mapping\n",
    "if (d==c):\n",
    "    print (\"Encoding successful\") # is converted to bytes?\n",
    "else : print (\"Encoding Unsuccessful\")"
   ]
  },
  {
   "cell_type": "code",
   "execution_count": 52,
   "id": "6c0c61a3",
   "metadata": {},
   "outputs": [
    {
     "name": "stdout",
     "output_type": "stream",
     "text": [
      "Decoding Unsuccessful\n"
     ]
    }
   ],
   "source": [
    "e = c.decode('ASCII')\n",
    "if (d==a):\n",
    "    print (\"Decoding successful\") # is c  converted to String?\n",
    "else : print (\"Decoding Unsuccessful\")"
   ]
  },
  {
   "cell_type": "markdown",
   "id": "479c5856",
   "metadata": {},
   "source": [
    "### callable()\n",
    "Means that it \"can be called like a function\". Functions and methods are callable."
   ]
  },
  {
   "cell_type": "code",
   "execution_count": 5,
   "id": "fab01b3f",
   "metadata": {},
   "outputs": [
    {
     "name": "stdout",
     "output_type": "stream",
     "text": [
      "False\n",
      "True\n",
      "True\n"
     ]
    }
   ],
   "source": [
    "def fnk():\n",
    "    return None\n",
    "\n",
    "x = 5\n",
    "print(callable(x))\n",
    "print(callable(input))\n",
    "print(callable(fnk))"
   ]
  },
  {
   "cell_type": "markdown",
   "id": "6e504314",
   "metadata": {},
   "source": [
    "### compile()\n",
    "<b>filename\tRequired. </b>\n",
    "The name of the file that the source comes from. If the source does not come from a file, you can write whatever you like\n",
    "\n",
    "<b>mode\tRequired.  </b>\n",
    "    Legal values:\n",
    "\n",
    "eval - if the source is a single expression\n",
    "\n",
    "exec - if the source is a block of statements\n",
    "\n",
    "single - if the source is a single interactive statement"
   ]
  },
  {
   "cell_type": "code",
   "execution_count": 7,
   "id": "ba45e5bd",
   "metadata": {},
   "outputs": [
    {
     "name": "stdout",
     "output_type": "stream",
     "text": [
      "55\n"
     ]
    }
   ],
   "source": [
    "x = compile('print(55)', 'test', 'eval')\n",
    "exec(x)"
   ]
  },
  {
   "cell_type": "code",
   "execution_count": 72,
   "id": "9296357c",
   "metadata": {},
   "outputs": [
    {
     "name": "stdout",
     "output_type": "stream",
     "text": [
      "55\n",
      "88\n"
     ]
    }
   ],
   "source": [
    "x = compile('print(55)\\nprint(88)', 'test', 'exec')\n",
    "exec(x)"
   ]
  },
  {
   "cell_type": "markdown",
   "id": "d104c7ab",
   "metadata": {},
   "source": [
    "### complex()"
   ]
  },
  {
   "cell_type": "code",
   "execution_count": 9,
   "id": "6734c87e",
   "metadata": {},
   "outputs": [
    {
     "data": {
      "text/plain": [
       "(9+0j)"
      ]
     },
     "execution_count": 9,
     "metadata": {},
     "output_type": "execute_result"
    }
   ],
   "source": [
    "complex(9)"
   ]
  },
  {
   "cell_type": "markdown",
   "id": "6acc80fb",
   "metadata": {},
   "source": [
    "### delattr()"
   ]
  },
  {
   "cell_type": "code",
   "execution_count": 73,
   "id": "5465c2d2",
   "metadata": {},
   "outputs": [
    {
     "ename": "AttributeError",
     "evalue": "type object 'Person' has no attribute 'age'",
     "output_type": "error",
     "traceback": [
      "\u001b[0;31m---------------------------------------------------------------------------\u001b[0m",
      "\u001b[0;31mAttributeError\u001b[0m                            Traceback (most recent call last)",
      "\u001b[0;32m/var/folders/jm/4w1j9f0j08xf8qdx32xwtk980000gn/T/ipykernel_98421/3946580703.py\u001b[0m in \u001b[0;36m<module>\u001b[0;34m\u001b[0m\n\u001b[1;32m      5\u001b[0m \u001b[0mPerson\u001b[0m\u001b[0;34m.\u001b[0m\u001b[0mage\u001b[0m\u001b[0;34m\u001b[0m\u001b[0;34m\u001b[0m\u001b[0m\n\u001b[1;32m      6\u001b[0m \u001b[0mdelattr\u001b[0m\u001b[0;34m(\u001b[0m\u001b[0mPerson\u001b[0m\u001b[0;34m,\u001b[0m \u001b[0;34m'age'\u001b[0m\u001b[0;34m)\u001b[0m\u001b[0;34m\u001b[0m\u001b[0;34m\u001b[0m\u001b[0m\n\u001b[0;32m----> 7\u001b[0;31m \u001b[0mPerson\u001b[0m\u001b[0;34m.\u001b[0m\u001b[0mage\u001b[0m\u001b[0;34m\u001b[0m\u001b[0;34m\u001b[0m\u001b[0m\n\u001b[0m",
      "\u001b[0;31mAttributeError\u001b[0m: type object 'Person' has no attribute 'age'"
     ]
    }
   ],
   "source": [
    "class Person:\n",
    "  name = \"John\"\n",
    "  age = 36\n",
    "  country = \"Norway\"\n",
    "Person.age\n",
    "delattr(Person, 'age')\n",
    "Person.age"
   ]
  },
  {
   "cell_type": "markdown",
   "id": "57d3de88",
   "metadata": {},
   "source": [
    "### dir()\n",
    "properties and methods"
   ]
  },
  {
   "cell_type": "code",
   "execution_count": 75,
   "id": "7e7a9000",
   "metadata": {},
   "outputs": [
    {
     "data": {
      "text/plain": [
       "['__add__',\n",
       " '__class__',\n",
       " '__contains__',\n",
       " '__delattr__',\n",
       " '__dir__',\n",
       " '__doc__',\n",
       " '__eq__',\n",
       " '__format__',\n",
       " '__ge__',\n",
       " '__getattribute__',\n",
       " '__getitem__',\n",
       " '__getnewargs__',\n",
       " '__gt__',\n",
       " '__hash__',\n",
       " '__init__',\n",
       " '__init_subclass__',\n",
       " '__iter__',\n",
       " '__le__',\n",
       " '__len__',\n",
       " '__lt__',\n",
       " '__mod__',\n",
       " '__mul__',\n",
       " '__ne__',\n",
       " '__new__',\n",
       " '__reduce__',\n",
       " '__reduce_ex__',\n",
       " '__repr__',\n",
       " '__rmod__',\n",
       " '__rmul__',\n",
       " '__setattr__',\n",
       " '__sizeof__',\n",
       " '__str__',\n",
       " '__subclasshook__',\n",
       " 'capitalize',\n",
       " 'casefold',\n",
       " 'center',\n",
       " 'count',\n",
       " 'encode',\n",
       " 'endswith',\n",
       " 'expandtabs',\n",
       " 'find',\n",
       " 'format',\n",
       " 'format_map',\n",
       " 'index',\n",
       " 'isalnum',\n",
       " 'isalpha',\n",
       " 'isascii',\n",
       " 'isdecimal',\n",
       " 'isdigit',\n",
       " 'isidentifier',\n",
       " 'islower',\n",
       " 'isnumeric',\n",
       " 'isprintable',\n",
       " 'isspace',\n",
       " 'istitle',\n",
       " 'isupper',\n",
       " 'join',\n",
       " 'ljust',\n",
       " 'lower',\n",
       " 'lstrip',\n",
       " 'maketrans',\n",
       " 'partition',\n",
       " 'removeprefix',\n",
       " 'removesuffix',\n",
       " 'replace',\n",
       " 'rfind',\n",
       " 'rindex',\n",
       " 'rjust',\n",
       " 'rpartition',\n",
       " 'rsplit',\n",
       " 'rstrip',\n",
       " 'split',\n",
       " 'splitlines',\n",
       " 'startswith',\n",
       " 'strip',\n",
       " 'swapcase',\n",
       " 'title',\n",
       " 'translate',\n",
       " 'upper',\n",
       " 'zfill']"
      ]
     },
     "execution_count": 75,
     "metadata": {},
     "output_type": "execute_result"
    }
   ],
   "source": [
    "my_string = \"kghtrl\"\n",
    "dir(str)"
   ]
  },
  {
   "cell_type": "markdown",
   "id": "3769f830",
   "metadata": {},
   "source": [
    "### divmod()\n",
    "quotient  and the remainder"
   ]
  },
  {
   "cell_type": "code",
   "execution_count": 76,
   "id": "c297efe1",
   "metadata": {},
   "outputs": [
    {
     "name": "stdout",
     "output_type": "stream",
     "text": [
      "(5, 0)\n"
     ]
    }
   ],
   "source": [
    "x = divmod(10, 2)\n",
    "print(x)"
   ]
  },
  {
   "cell_type": "markdown",
   "id": "905cbde6",
   "metadata": {},
   "source": [
    "### enumerate()"
   ]
  },
  {
   "cell_type": "code",
   "execution_count": 78,
   "id": "cde0a819",
   "metadata": {},
   "outputs": [
    {
     "name": "stdout",
     "output_type": "stream",
     "text": [
      "(0, 'apple') (1, 'banana') (2, 'cherry') (0, 6) (1, 7) (2, 8) (3, 9) (4, 10)\n"
     ]
    }
   ],
   "source": [
    "x = ('apple', 'banana', 'cherry')\n",
    "y = enumerate(x)\n",
    "print (*y, *enumerate(list2))"
   ]
  },
  {
   "cell_type": "markdown",
   "id": "c5dda957",
   "metadata": {},
   "source": [
    "### eval() and exec()\n",
    "if the expression (string) is a legal Python statement, it will be executed.\n",
    "\n",
    "<b>exec()</b>accepts large blocks of code\n",
    "\n",
    "<b>eval()</b>accepts only single expression"
   ]
  },
  {
   "cell_type": "code",
   "execution_count": 39,
   "id": "f524d54d",
   "metadata": {},
   "outputs": [
    {
     "name": "stdout",
     "output_type": "stream",
     "text": [
      "55\n",
      "John\n"
     ]
    }
   ],
   "source": [
    "k = 'print(55)'\n",
    "eval(k)\n",
    "\n",
    "f = 'name = \"John\"\\nprint(name)'\n",
    "exec(f)"
   ]
  },
  {
   "cell_type": "markdown",
   "id": "f1318b5e",
   "metadata": {},
   "source": [
    "### format()\n",
    "\n",
    "'<' - Left aligns the result (within the available space)\n",
    "\n",
    "'>' - Right aligns the result (within the available space)\n",
    "\n",
    "'^' - Center aligns the result (within the available space)\n",
    "\n",
    "'=' - Places the sign to the left most position\n",
    "\n",
    "'+' - Use a plus sign to indicate if the result is positive or negative\n",
    "\n",
    "'-' - Use a minus sign for negative values only\n",
    "\n",
    "' ' - Use a leading space for positive numbers\n",
    "\n",
    "',' - Use a comma as a thousand separator\n",
    "\n",
    "'_' - Use a underscore as a thousand separator\n",
    "\n",
    "'b' - Binary format\n",
    "\n",
    "'c' - Converts the value into the corresponding unicode character\n",
    "\n",
    "'d' - Decimal format\n",
    "\n",
    "'e' - Scientific format, with a lower case e\n",
    "\n",
    "'E' - Scientific format, with an upper case E\n",
    "\n",
    "'f' - Fix point number format\n",
    "\n",
    "'F' - Fix point number format, upper case\n",
    "\n",
    "'g' - General format\n",
    "\n",
    "'G' - General format (using a upper case E for scientific notations)\n",
    "\n",
    "'o' - Octal format\n",
    "\n",
    "'x' - Hex format, lower case\n",
    "\n",
    "'X' - Hex format, upper case\n",
    "\n",
    "'n' - Number format\n",
    "\n",
    "'%' - Percentage format"
   ]
  },
  {
   "cell_type": "code",
   "execution_count": 79,
   "id": "b186ba1e",
   "metadata": {},
   "outputs": [
    {
     "name": "stdout",
     "output_type": "stream",
     "text": [
      "ff 90.000000%\n"
     ]
    }
   ],
   "source": [
    "x = format(255, 'x')\n",
    "g = format(0.90, '%')\n",
    "print(x, g)\n",
    "\n"
   ]
  },
  {
   "cell_type": "markdown",
   "id": "b06341d8",
   "metadata": {},
   "source": [
    "### frozenset()"
   ]
  },
  {
   "cell_type": "code",
   "execution_count": 51,
   "id": "57552441",
   "metadata": {},
   "outputs": [
    {
     "ename": "TypeError",
     "evalue": "'frozenset' object is not subscriptable",
     "output_type": "error",
     "traceback": [
      "\u001b[0;31m---------------------------------------------------------------------------\u001b[0m",
      "\u001b[0;31mTypeError\u001b[0m                                 Traceback (most recent call last)",
      "\u001b[0;32m/var/folders/jm/4w1j9f0j08xf8qdx32xwtk980000gn/T/ipykernel_98421/1674486196.py\u001b[0m in \u001b[0;36m<module>\u001b[0;34m\u001b[0m\n\u001b[1;32m      1\u001b[0m \u001b[0mmylist\u001b[0m \u001b[0;34m=\u001b[0m \u001b[0;34m[\u001b[0m\u001b[0;34m'apple'\u001b[0m\u001b[0;34m,\u001b[0m \u001b[0;34m'banana'\u001b[0m\u001b[0;34m,\u001b[0m \u001b[0;34m'cherry'\u001b[0m\u001b[0;34m]\u001b[0m\u001b[0;34m\u001b[0m\u001b[0;34m\u001b[0m\u001b[0m\n\u001b[1;32m      2\u001b[0m \u001b[0mx\u001b[0m \u001b[0;34m=\u001b[0m \u001b[0mfrozenset\u001b[0m\u001b[0;34m(\u001b[0m\u001b[0mmylist\u001b[0m\u001b[0;34m)\u001b[0m\u001b[0;34m\u001b[0m\u001b[0;34m\u001b[0m\u001b[0m\n\u001b[0;32m----> 3\u001b[0;31m \u001b[0mprint\u001b[0m\u001b[0;34m(\u001b[0m\u001b[0mx\u001b[0m\u001b[0;34m[\u001b[0m\u001b[0;36m0\u001b[0m\u001b[0;34m]\u001b[0m\u001b[0;34m)\u001b[0m\u001b[0;34m\u001b[0m\u001b[0;34m\u001b[0m\u001b[0m\n\u001b[0m",
      "\u001b[0;31mTypeError\u001b[0m: 'frozenset' object is not subscriptable"
     ]
    }
   ],
   "source": [
    "mylist = ['apple', 'banana', 'cherry']\n",
    "x = frozenset(mylist)\n",
    "print(x[0])"
   ]
  },
  {
   "cell_type": "code",
   "execution_count": 82,
   "id": "67512a78",
   "metadata": {},
   "outputs": [
    {
     "name": "stdout",
     "output_type": "stream",
     "text": [
      "frozenset({'banana', 'cherry', 'apple'})\n",
      "{'banana', 'cherry', 'apple'}\n"
     ]
    }
   ],
   "source": [
    "mylist = ['apple', 'banana', 'cherry', 'apple']\n",
    "myset =set(['apple', 'banana', 'cherry', 'apple'])\n",
    "x = frozenset(mylist)\n",
    "print(x)\n",
    "print(myset)"
   ]
  },
  {
   "cell_type": "code",
   "execution_count": null,
   "id": "f3616508",
   "metadata": {},
   "outputs": [],
   "source": []
  }
 ],
 "metadata": {
  "kernelspec": {
   "display_name": "Python 3 (ipykernel)",
   "language": "python",
   "name": "python3"
  },
  "language_info": {
   "codemirror_mode": {
    "name": "ipython",
    "version": 3
   },
   "file_extension": ".py",
   "mimetype": "text/x-python",
   "name": "python",
   "nbconvert_exporter": "python",
   "pygments_lexer": "ipython3",
   "version": "3.9.7"
  }
 },
 "nbformat": 4,
 "nbformat_minor": 5
}
